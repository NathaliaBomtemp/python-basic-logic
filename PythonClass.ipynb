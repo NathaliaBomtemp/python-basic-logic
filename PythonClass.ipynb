{
  "nbformat": 4,
  "nbformat_minor": 0,
  "metadata": {
    "colab": {
      "name": "PythonClass.ipynb",
      "provenance": []
    },
    "kernelspec": {
      "name": "python3",
      "display_name": "Python 3"
    },
    "language_info": {
      "name": "python"
    }
  },
  "cells": [
    {
      "cell_type": "markdown",
      "source": [
        "**Python Class:**"
      ],
      "metadata": {
        "id": "SgoafYHMqOTw"
      }
    },
    {
      "cell_type": "code",
      "execution_count": null,
      "metadata": {
        "id": "G-D_od_-qFUs"
      },
      "outputs": [],
      "source": [
        "x=2"
      ]
    },
    {
      "cell_type": "code",
      "source": [
        "type(x)"
      ],
      "metadata": {
        "colab": {
          "base_uri": "https://localhost:8080/"
        },
        "id": "Vb2RtZJQq-_P",
        "outputId": "4fa9f94e-cfa9-4d83-e814-d078accdc265"
      },
      "execution_count": null,
      "outputs": [
        {
          "output_type": "execute_result",
          "data": {
            "text/plain": [
              "int"
            ]
          },
          "metadata": {},
          "execution_count": 6
        }
      ]
    },
    {
      "cell_type": "markdown",
      "source": [
        "**Input and Print:**\n"
      ],
      "metadata": {
        "id": "lnBmEPfnJ-HE"
      }
    },
    {
      "cell_type": "code",
      "source": [
        "print('Hello world!')"
      ],
      "metadata": {
        "colab": {
          "base_uri": "https://localhost:8080/"
        },
        "id": "35SE29r4rMtN",
        "outputId": "2b7e7e7a-27fa-4282-a5da-2b690d995fb6"
      },
      "execution_count": 1,
      "outputs": [
        {
          "output_type": "stream",
          "name": "stdout",
          "text": [
            "Hello world!\n"
          ]
        }
      ]
    },
    {
      "cell_type": "code",
      "source": [
        "y=input('Diga seu nome:')\n",
        "print('Boa noite,', y, '!')"
      ],
      "metadata": {
        "colab": {
          "base_uri": "https://localhost:8080/"
        },
        "id": "K1zxmTufr3kz",
        "outputId": "37756681-b890-4a68-e12b-6478c90add00"
      },
      "execution_count": 2,
      "outputs": [
        {
          "output_type": "stream",
          "name": "stdout",
          "text": [
            "Diga seu nome:Nathalia\n",
            "Boa noite, Nathalia !\n"
          ]
        }
      ]
    },
    {
      "cell_type": "code",
      "source": [
        "a = int(input('Entre com um número:'))\n",
        "b = int(input('Entre com outro número:'))\n",
        "c = a+b\n",
        "print('A soma deles vale', c)"
      ],
      "metadata": {
        "colab": {
          "base_uri": "https://localhost:8080/"
        },
        "id": "IPvEPu9AtbAt",
        "outputId": "a7b0ca98-5834-405d-b51d-ba35dad63107"
      },
      "execution_count": null,
      "outputs": [
        {
          "output_type": "stream",
          "name": "stdout",
          "text": [
            "Entre com um número:3\n",
            "Entre com outro número:4\n",
            "A soma deles vale 7\n"
          ]
        }
      ]
    },
    {
      "cell_type": "markdown",
      "source": [
        "\n",
        "**Body Mass Index Calculator**\n",
        "\n",
        "\n",
        "*   IMC = peso / altura²\n"
      ],
      "metadata": {
        "id": "O47Fw9COvoKH"
      }
    },
    {
      "cell_type": "markdown",
      "source": [
        "**IMC (kg/m2)\t - Classificação**\n",
        "\n",
        "Menor que 18,5 - Magreza\n",
        "\n",
        "18,5 a 24,9\t- Normal\n",
        "\n",
        "25 a 29,9\t- Sobrepeso\n",
        "\n",
        "30 a 34,9\t- Obesidade grau I\n",
        "\n",
        "35 a 39,9\t- Obesidade grau II\n",
        "\n",
        "Maior que 40 - Obesidade grau III"
      ],
      "metadata": {
        "id": "3gb1mGD80Nrr"
      }
    },
    {
      "cell_type": "code",
      "source": [
        "peso = float(input('Entre com seu peso em kg: ').replace(',', '.'))\n",
        "altura = float(input('Entre com sua altura em m: ').replace(',', '.'))\n",
        "imc = peso / (altura**2)\n",
        "print(f'Seu IMC vale {imc:.1f}'.replace('.', ','))\n",
        "if imc < 18.5:\n",
        "    print('Magreza...')\n",
        "elif imc < 25:\n",
        "    print('Normal...')\n",
        "elif imc < 30:\n",
        "    print('Sobrepeso...')\n",
        "elif imc < 35:\n",
        "    print('Obesidade grau I...')\n",
        "elif imc <= 40:\n",
        "    print('Obesidade grau II...')\n",
        "else:\n",
        "    print('Obesidade grau III...')"
      ],
      "metadata": {
        "colab": {
          "base_uri": "https://localhost:8080/"
        },
        "id": "DnnA7IvSvz9t",
        "outputId": "7c959600-291c-4105-950e-610bea162885"
      },
      "execution_count": 6,
      "outputs": [
        {
          "output_type": "stream",
          "name": "stdout",
          "text": [
            "Entre com seu peso em kg: 57\n",
            "Entre com sua altura em m: 1.63\n",
            "Seu IMC vale 21,5\n",
            "Normal...\n"
          ]
        }
      ]
    },
    {
      "cell_type": "markdown",
      "source": [
        "**Loops**:"
      ],
      "metadata": {
        "id": "7NZZ_Pmf-bhv"
      }
    },
    {
      "cell_type": "code",
      "source": [
        "i = 1\n",
        "while i<=10:\n",
        "    print(i, end=' ')\n",
        "    i += 1  # é o mesmo i = i+1 ... não existe i++"
      ],
      "metadata": {
        "colab": {
          "base_uri": "https://localhost:8080/"
        },
        "id": "neD35CV3-jeq",
        "outputId": "ca9b1e09-b4a2-48e4-de53-e9f5d181a758"
      },
      "execution_count": null,
      "outputs": [
        {
          "output_type": "stream",
          "name": "stdout",
          "text": [
            "1 2 3 4 5 6 7 8 9 10 "
          ]
        }
      ]
    },
    {
      "cell_type": "code",
      "source": [
        "for i in range(10):\n",
        "    print(i, end=' ')"
      ],
      "metadata": {
        "colab": {
          "base_uri": "https://localhost:8080/"
        },
        "id": "WDPstU9T_9pp",
        "outputId": "ab05953a-9466-47e4-aa4d-55c738ad9f30"
      },
      "execution_count": null,
      "outputs": [
        {
          "output_type": "stream",
          "name": "stdout",
          "text": [
            "0 1 2 3 4 5 6 7 8 9 "
          ]
        }
      ]
    },
    {
      "cell_type": "code",
      "source": [
        "for i in range(1, 11):\n",
        "    print(i, end=' ')"
      ],
      "metadata": {
        "colab": {
          "base_uri": "https://localhost:8080/"
        },
        "id": "hF85cl3RBA9J",
        "outputId": "301e4ff8-c693-4bf0-9786-dc3364bf36a1"
      },
      "execution_count": null,
      "outputs": [
        {
          "output_type": "stream",
          "name": "stdout",
          "text": [
            "1 2 3 4 5 6 7 8 9 10 "
          ]
        }
      ]
    },
    {
      "cell_type": "code",
      "source": [
        "for i in range(1, 11, 2):\n",
        "    print(i, end=' ')"
      ],
      "metadata": {
        "colab": {
          "base_uri": "https://localhost:8080/"
        },
        "id": "7ov-wxFLBQFW",
        "outputId": "927a7d41-e56e-4864-ebe9-52d09c0cc216"
      },
      "execution_count": null,
      "outputs": [
        {
          "output_type": "stream",
          "name": "stdout",
          "text": [
            "1 3 5 7 9 "
          ]
        }
      ]
    },
    {
      "cell_type": "code",
      "source": [
        "for i in range(20, 0, -1):\n",
        "    print(i, end=' ')"
      ],
      "metadata": {
        "colab": {
          "base_uri": "https://localhost:8080/"
        },
        "id": "48dx6AdnBnx7",
        "outputId": "6239d626-6734-4b71-9505-b8474be9b2f0"
      },
      "execution_count": null,
      "outputs": [
        {
          "output_type": "stream",
          "name": "stdout",
          "text": [
            "20 19 18 17 16 15 14 13 12 11 10 9 8 7 6 5 4 3 2 1 "
          ]
        }
      ]
    },
    {
      "cell_type": "markdown",
      "source": [
        "**Mostre a tabuada de um número:**"
      ],
      "metadata": {
        "id": "I-2gBTAqCywM"
      }
    },
    {
      "cell_type": "code",
      "source": [
        "n=int(input('Entre um número inteiro: '))\n",
        "for i in range(1,11):\n",
        "    print(f'{i} X {n} = {i*n}')"
      ],
      "metadata": {
        "colab": {
          "base_uri": "https://localhost:8080/"
        },
        "id": "5n2JRbBMC9AZ",
        "outputId": "eae6683a-aacb-477a-f239-7cbaccb3f76c"
      },
      "execution_count": null,
      "outputs": [
        {
          "output_type": "stream",
          "name": "stdout",
          "text": [
            "Entre um número inteiro: 5\n",
            "1 X 5 = 5\n",
            "2 X 5 = 10\n",
            "3 X 5 = 15\n",
            "4 X 5 = 20\n",
            "5 X 5 = 25\n",
            "6 X 5 = 30\n",
            "7 X 5 = 35\n",
            "8 X 5 = 40\n",
            "9 X 5 = 45\n",
            "10 X 5 = 50\n"
          ]
        }
      ]
    },
    {
      "cell_type": "markdown",
      "source": [
        "**Principais estruturas de dados:**"
      ],
      "metadata": {
        "id": "I7R0CoyHHwnh"
      }
    },
    {
      "cell_type": "markdown",
      "source": [
        "**Arrays ou vetores:**"
      ],
      "metadata": {
        "id": "3kVIBmz5IDsI"
      }
    },
    {
      "cell_type": "code",
      "source": [
        "mesStr = ['Janeiro', 'Fevereiro', 'Março', 'Abril',\n",
        "          'Maio', 'Junho', 'Julho', 'Agosto', 'Setembro',\n",
        "          'Outubro', 'Novembro', 'Dezembro']\n",
        "dias = [31, 28, 31, 30, 31, 30, 31, 31, 30, 31, 30, 31]\n",
        "mes = int(input(\"Qual o mês? \"))\n",
        "print(f'O mês {mesStr[mes-1]} tem {dias[mes-1]} dias')"
      ],
      "metadata": {
        "colab": {
          "base_uri": "https://localhost:8080/"
        },
        "id": "ToC9VnlsH4l9",
        "outputId": "5e87eb89-222f-44b7-8028-c62b03fbea2e"
      },
      "execution_count": null,
      "outputs": [
        {
          "output_type": "stream",
          "name": "stdout",
          "text": [
            "Qual o mês? 2\n",
            "O mês Fevereiro tem 28 dias\n"
          ]
        }
      ]
    },
    {
      "cell_type": "markdown",
      "source": [
        "**Tupla:**"
      ],
      "metadata": {
        "id": "0NeaP3bsKorp"
      }
    },
    {
      "cell_type": "code",
      "source": [
        "mesStr = ('Janeiro', 'Fevereiro', 'Março', 'Abril',\n",
        "          'Maio', 'Junho', 'Julho', 'Agosto', 'Setembro',\n",
        "          'Outubro', 'Novembro', 'Dezembro')\n",
        "dias = (31, 28, 31, 30, 31, 30, 31, 31, 30, 31, 30, 31)\n",
        "mes = int(input(\"Qual o mês? \"))\n",
        "print(f'O mês {mesStr[mes-1]} tem {dias[mes-1]} dias')"
      ],
      "metadata": {
        "colab": {
          "base_uri": "https://localhost:8080/"
        },
        "id": "ucZbojJeKsdD",
        "outputId": "07b546a5-90b5-48e9-d0e3-8136cbb814fb"
      },
      "execution_count": null,
      "outputs": [
        {
          "output_type": "stream",
          "name": "stdout",
          "text": [
            "Qual o mês? 2\n",
            "O mês Fevereiro tem 28 dias\n"
          ]
        }
      ]
    }
  ]
}