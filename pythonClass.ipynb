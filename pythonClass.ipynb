{
  "nbformat": 4,
  "nbformat_minor": 0,
  "metadata": {
    "colab": {
      "name": "pythonClass.ipynb",
      "provenance": [],
      "include_colab_link": true
    },
    "kernelspec": {
      "name": "python3",
      "display_name": "Python 3"
    },
    "language_info": {
      "name": "python"
    }
  },
  "cells": [
    {
      "cell_type": "markdown",
      "metadata": {
        "id": "view-in-github",
        "colab_type": "text"
      },
      "source": [
        "<a href=\"https://colab.research.google.com/github/NathaliaBomtemp/python-basic-logic/blob/main/pythonClass.ipynb\" target=\"_parent\"><img src=\"https://colab.research.google.com/assets/colab-badge.svg\" alt=\"Open In Colab\"/></a>"
      ]
    },
    {
      "cell_type": "markdown",
      "source": [
        "**Aula 1 Python:**"
      ],
      "metadata": {
        "id": "SgoafYHMqOTw"
      }
    },
    {
      "cell_type": "code",
      "execution_count": null,
      "metadata": {
        "id": "G-D_od_-qFUs"
      },
      "outputs": [],
      "source": [
        "x=2"
      ]
    },
    {
      "cell_type": "code",
      "source": [
        "type(x)"
      ],
      "metadata": {
        "colab": {
          "base_uri": "https://localhost:8080/"
        },
        "id": "Vb2RtZJQq-_P",
        "outputId": "4fa9f94e-cfa9-4d83-e814-d078accdc265"
      },
      "execution_count": null,
      "outputs": [
        {
          "output_type": "execute_result",
          "data": {
            "text/plain": [
              "int"
            ]
          },
          "metadata": {},
          "execution_count": 6
        }
      ]
    },
    {
      "cell_type": "code",
      "source": [
        "print('Alô, mundo!')"
      ],
      "metadata": {
        "colab": {
          "base_uri": "https://localhost:8080/"
        },
        "id": "35SE29r4rMtN",
        "outputId": "5b780aee-ce1c-402d-d35e-67a20888c5a5"
      },
      "execution_count": null,
      "outputs": [
        {
          "output_type": "stream",
          "name": "stdout",
          "text": [
            "Alô, mundo!\n"
          ]
        }
      ]
    },
    {
      "cell_type": "code",
      "source": [
        "y=input('Diga seu nome:')\n",
        "print('Boa noite,', y, '!')"
      ],
      "metadata": {
        "colab": {
          "base_uri": "https://localhost:8080/"
        },
        "id": "K1zxmTufr3kz",
        "outputId": "c533380c-00e1-40e6-b765-8d00861a629c"
      },
      "execution_count": null,
      "outputs": [
        {
          "output_type": "stream",
          "name": "stdout",
          "text": [
            "Diga seu nome:3\n",
            "Boa noite, 3 !\n"
          ]
        }
      ]
    },
    {
      "cell_type": "code",
      "source": [
        "a = int(input('Entre com um número:'))\n",
        "b = int(input('Entre com outro número:'))\n",
        "c = a+b\n",
        "print('A soma deles vale', c)"
      ],
      "metadata": {
        "colab": {
          "base_uri": "https://localhost:8080/"
        },
        "id": "IPvEPu9AtbAt",
        "outputId": "a7b0ca98-5834-405d-b51d-ba35dad63107"
      },
      "execution_count": null,
      "outputs": [
        {
          "output_type": "stream",
          "name": "stdout",
          "text": [
            "Entre com um número:3\n",
            "Entre com outro número:4\n",
            "A soma deles vale 7\n"
          ]
        }
      ]
    },
    {
      "cell_type": "markdown",
      "source": [
        "**Vamos exercitar:** Calculemos o IMC de uma pessoa, a partir de seu peso e de sua altura.\n",
        "\n",
        "IMC = peso / altura²"
      ],
      "metadata": {
        "id": "O47Fw9COvoKH"
      }
    },
    {
      "cell_type": "markdown",
      "source": [
        "**IMC (kg/m2)\t - Classificação**\n",
        "\n",
        "Menor que 18,5 - Magreza\n",
        "\n",
        "18,5 a 24,9\t- Normal\n",
        "\n",
        "25 a 29,9\t- Sobrepeso\n",
        "\n",
        "30 a 34,9\t- Obesidade grau I\n",
        "\n",
        "35 a 39,9\t- Obesidade grau II\n",
        "\n",
        "Maior que 40 - Obesidade grau III"
      ],
      "metadata": {
        "id": "3gb1mGD80Nrr"
      }
    },
    {
      "cell_type": "code",
      "source": [
        "peso = float(input('Entre com seu peso em kg: ').replace(',', '.'))\n",
        "altura = float(input('Entre com sua altura em m: ').replace(',', '.'))\n",
        "imc = peso / (altura**2)\n",
        "print(f'Seu IMC vale {imc:.1f}'.replace('.', ','))\n",
        "if imc < 18.5:\n",
        "    print('Magro de ruim...')\n",
        "elif imc < 25:\n",
        "    print('Normal...')\n",
        "elif imc < 30:\n",
        "    print('Fortinho...')\n",
        "elif imc < 35:\n",
        "    print('Fofinho...')\n",
        "elif imc <= 40:\n",
        "    print('Fofão...')\n",
        "else:\n",
        "    print('Bariátrica já!!')"
      ],
      "metadata": {
        "colab": {
          "base_uri": "https://localhost:8080/"
        },
        "id": "DnnA7IvSvz9t",
        "outputId": "c0fd03f2-fd0e-4952-a1a2-b668a81e4991"
      },
      "execution_count": null,
      "outputs": [
        {
          "output_type": "stream",
          "name": "stdout",
          "text": [
            "Entre com seu peso em kg: 89\n",
            "Entre com sua altura em m: 1,76\n",
            "Seu IMC vale 28,7\n",
            "Fortinho...\n"
          ]
        }
      ]
    },
    {
      "cell_type": "markdown",
      "source": [
        "Vamos exercitar as estruturas de **repetição**:"
      ],
      "metadata": {
        "id": "7NZZ_Pmf-bhv"
      }
    },
    {
      "cell_type": "code",
      "source": [
        "i = 1\n",
        "while i<=10:\n",
        "    print(i, end=' ')\n",
        "    i += 1  # é o mesmo i = i+1 ... não existe i++"
      ],
      "metadata": {
        "colab": {
          "base_uri": "https://localhost:8080/"
        },
        "id": "neD35CV3-jeq",
        "outputId": "ca9b1e09-b4a2-48e4-de53-e9f5d181a758"
      },
      "execution_count": null,
      "outputs": [
        {
          "output_type": "stream",
          "name": "stdout",
          "text": [
            "1 2 3 4 5 6 7 8 9 10 "
          ]
        }
      ]
    },
    {
      "cell_type": "code",
      "source": [
        "for i in range(10):\n",
        "    print(i, end=' ')"
      ],
      "metadata": {
        "colab": {
          "base_uri": "https://localhost:8080/"
        },
        "id": "WDPstU9T_9pp",
        "outputId": "ab05953a-9466-47e4-aa4d-55c738ad9f30"
      },
      "execution_count": null,
      "outputs": [
        {
          "output_type": "stream",
          "name": "stdout",
          "text": [
            "0 1 2 3 4 5 6 7 8 9 "
          ]
        }
      ]
    },
    {
      "cell_type": "code",
      "source": [
        "for i in range(1, 11):\n",
        "    print(i, end=' ')"
      ],
      "metadata": {
        "colab": {
          "base_uri": "https://localhost:8080/"
        },
        "id": "hF85cl3RBA9J",
        "outputId": "301e4ff8-c693-4bf0-9786-dc3364bf36a1"
      },
      "execution_count": null,
      "outputs": [
        {
          "output_type": "stream",
          "name": "stdout",
          "text": [
            "1 2 3 4 5 6 7 8 9 10 "
          ]
        }
      ]
    },
    {
      "cell_type": "code",
      "source": [
        "for i in range(1, 11, 2):\n",
        "    print(i, end=' ')"
      ],
      "metadata": {
        "colab": {
          "base_uri": "https://localhost:8080/"
        },
        "id": "7ov-wxFLBQFW",
        "outputId": "927a7d41-e56e-4864-ebe9-52d09c0cc216"
      },
      "execution_count": null,
      "outputs": [
        {
          "output_type": "stream",
          "name": "stdout",
          "text": [
            "1 3 5 7 9 "
          ]
        }
      ]
    },
    {
      "cell_type": "code",
      "source": [
        "for i in range(20, 0, -1):\n",
        "    print(i, end=' ')"
      ],
      "metadata": {
        "colab": {
          "base_uri": "https://localhost:8080/"
        },
        "id": "48dx6AdnBnx7",
        "outputId": "6239d626-6734-4b71-9505-b8474be9b2f0"
      },
      "execution_count": null,
      "outputs": [
        {
          "output_type": "stream",
          "name": "stdout",
          "text": [
            "20 19 18 17 16 15 14 13 12 11 10 9 8 7 6 5 4 3 2 1 "
          ]
        }
      ]
    },
    {
      "cell_type": "markdown",
      "source": [
        "**Mostre a tabuada de um número qualquer entrado pelo usuário:**"
      ],
      "metadata": {
        "id": "I-2gBTAqCywM"
      }
    },
    {
      "cell_type": "code",
      "source": [
        "n=int(input('Entre um número inteiro: '))\n",
        "for i in range(1,11):\n",
        "    print(f'{i} X {n} = {i*n}')"
      ],
      "metadata": {
        "colab": {
          "base_uri": "https://localhost:8080/"
        },
        "id": "5n2JRbBMC9AZ",
        "outputId": "eae6683a-aacb-477a-f239-7cbaccb3f76c"
      },
      "execution_count": null,
      "outputs": [
        {
          "output_type": "stream",
          "name": "stdout",
          "text": [
            "Entre um número inteiro: 5\n",
            "1 X 5 = 5\n",
            "2 X 5 = 10\n",
            "3 X 5 = 15\n",
            "4 X 5 = 20\n",
            "5 X 5 = 25\n",
            "6 X 5 = 30\n",
            "7 X 5 = 35\n",
            "8 X 5 = 40\n",
            "9 X 5 = 45\n",
            "10 X 5 = 50\n"
          ]
        }
      ]
    },
    {
      "cell_type": "markdown",
      "source": [
        "**Principais estruturas de dados:**"
      ],
      "metadata": {
        "id": "I7R0CoyHHwnh"
      }
    },
    {
      "cell_type": "markdown",
      "source": [
        "**Arrays ou vetores:**"
      ],
      "metadata": {
        "id": "3kVIBmz5IDsI"
      }
    },
    {
      "cell_type": "code",
      "source": [
        "mesStr = ['Janeiro', 'Fevereiro', 'Março', 'Abril',\n",
        "          'Maio', 'Junho', 'Julho', 'Agosto', 'Setembro',\n",
        "          'Outubro', 'Novembro', 'Dezembro']\n",
        "dias = [31, 28, 31, 30, 31, 30, 31, 31, 30, 31, 30, 31]\n",
        "mes = int(input(\"Qual o mês? \"))\n",
        "print(f'O mês {mesStr[mes-1]} tem {dias[mes-1]} dias')"
      ],
      "metadata": {
        "colab": {
          "base_uri": "https://localhost:8080/"
        },
        "id": "ToC9VnlsH4l9",
        "outputId": "5e87eb89-222f-44b7-8028-c62b03fbea2e"
      },
      "execution_count": null,
      "outputs": [
        {
          "output_type": "stream",
          "name": "stdout",
          "text": [
            "Qual o mês? 2\n",
            "O mês Fevereiro tem 28 dias\n"
          ]
        }
      ]
    },
    {
      "cell_type": "markdown",
      "source": [
        "**Tupla:**"
      ],
      "metadata": {
        "id": "0NeaP3bsKorp"
      }
    },
    {
      "cell_type": "code",
      "source": [
        "mesStr = ('Janeiro', 'Fevereiro', 'Março', 'Abril',\n",
        "          'Maio', 'Junho', 'Julho', 'Agosto', 'Setembro',\n",
        "          'Outubro', 'Novembro', 'Dezembro')\n",
        "dias = (31, 28, 31, 30, 31, 30, 31, 31, 30, 31, 30, 31)\n",
        "mes = int(input(\"Qual o mês? \"))\n",
        "print(f'O mês {mesStr[mes-1]} tem {dias[mes-1]} dias')"
      ],
      "metadata": {
        "colab": {
          "base_uri": "https://localhost:8080/"
        },
        "id": "ucZbojJeKsdD",
        "outputId": "07b546a5-90b5-48e9-d0e3-8136cbb814fb"
      },
      "execution_count": null,
      "outputs": [
        {
          "output_type": "stream",
          "name": "stdout",
          "text": [
            "Qual o mês? 2\n",
            "O mês Fevereiro tem 28 dias\n"
          ]
        }
      ]
    }
  ]
}